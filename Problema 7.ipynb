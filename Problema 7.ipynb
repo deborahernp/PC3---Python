{
 "cells": [
  {
   "cell_type": "code",
   "execution_count": null,
   "metadata": {},
   "outputs": [],
   "source": [
    "if __name__ == '__main__':\n",
    "    # Llamar a las funciones o clases de los otros problemas aquí\n"
   ]
  },
  {
   "cell_type": "code",
   "execution_count": null,
   "metadata": {},
   "outputs": [],
   "source": [
    "class CIRCULO:\n",
    "    def __init__(self, radio):\n",
    "        self.radio = radio\n",
    "\n",
    "    def calcular_area(self):\n",
    "        import math\n",
    "        return math.pi * self.radio ** 2\n"
   ]
  },
  {
   "cell_type": "code",
   "execution_count": null,
   "metadata": {},
   "outputs": [],
   "source": [
    "class Catalogo:\n",
    "    def __init__(self):\n",
    "        self.productos = []\n",
    "\n",
    "    def agregar_producto(self, producto):\n",
    "        self.productos.append(producto)\n",
    "\n",
    "    def mostrar_productos(self):\n",
    "        for producto in self.productos:\n",
    "            print(producto)\n"
   ]
  },
  {
   "cell_type": "code",
   "execution_count": null,
   "metadata": {},
   "outputs": [],
   "source": [
    "# main.py\n",
    "from mi_modulo import opciones_menu, dividir_numeros\n",
    "\n",
    "if __name__ == '__main__':\n",
    "    opciones_menu()\n"
   ]
  },
  {
   "cell_type": "code",
   "execution_count": null,
   "metadata": {},
   "outputs": [],
   "source": [
    "class Producto:\n",
    "    def __init__(self, nombre, codigo):\n",
    "        self.nombre = nombre\n",
    "        self.codigo = codigo\n",
    "\n",
    "    def __str__(self):\n",
    "        pais, lote, anio = self.codigo.split('-')\n",
    "        return f\"Producto: {self.nombre} (País: {pais}, Lote: {lote}, Año: {anio})\"\n"
   ]
  },
  {
   "cell_type": "code",
   "execution_count": null,
   "metadata": {},
   "outputs": [],
   "source": [
    "# main.py\n",
    "import mi_modulo\n",
    "\n",
    "try:\n",
    "    resultado = mi_modulo.dividir_numeros(10, 2)\n",
    "    print(f\"Resultado de la división: {resultado}\")\n",
    "except ZeroDivisionError:\n",
    "    print(\"Error: No se puede dividir entre cero.\")\n",
    "else:\n",
    "    import os\n",
    "    print(f\"Ruta del directorio de trabajo: {os.getcwd()}\")\n",
    "finally:\n",
    "    print(\"Proceso terminado\")\n"
   ]
  },
  {
   "cell_type": "code",
   "execution_count": null,
   "metadata": {},
   "outputs": [],
   "source": [
    "class Persona:\n",
    "    def __init__(self):\n",
    "        self.nombre = input(\"Ingrese el nombre: \")\n",
    "        self.edad = int(input(\"Ingrese la edad: \"))\n",
    "        # Agregar otros atributos según sea necesario\n"
   ]
  }
 ],
 "metadata": {
  "language_info": {
   "name": "python"
  }
 },
 "nbformat": 4,
 "nbformat_minor": 2
}
