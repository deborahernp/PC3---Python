{
 "cells": [
  {
   "cell_type": "code",
   "execution_count": null,
   "metadata": {},
   "outputs": [],
   "source": [
    "class Circulo:\n",
    "    def __init__(self, radio):\n",
    "        self.radio = radio\n",
    "    \n",
    "    def calcular_area(self):\n",
    "        return 3.14159 * self.radio**2\n"
   ]
  },
  {
   "cell_type": "code",
   "execution_count": null,
   "metadata": {},
   "outputs": [],
   "source": [
    "class Rectangulo:\n",
    "    def __init__(self, largo, ancho):\n",
    "        self.largo = largo\n",
    "        self.ancho = ancho\n",
    "    \n",
    "    def calcular_area(self):\n",
    "        return self.largo * self.ancho\n"
   ]
  },
  {
   "cell_type": "code",
   "execution_count": null,
   "metadata": {},
   "outputs": [],
   "source": [
    "from Problema3 import Circulo\n",
    "from Problema4 import Rectangulo\n",
    "\n",
    "def mostrar_menu():\n",
    "    print(\"\\nMenú:\")\n",
    "    print(\"1. Calcular área de un círculo\")\n",
    "    print(\"2. Calcular área de un rectángulo\")\n",
    "    print(\"3. Calcular área de un cuadrado\")  # Agregado según solicitud\n",
    "    print(\"4. Salir\")\n",
    "\n",
    "def calcular_area_circulo():\n",
    "    radio = float(input(\"Ingrese el radio del círculo: \"))\n",
    "    circulo = Circulo(radio)\n",
    "    area = circulo.calcular_area()\n",
    "    print(\"El área del círculo es:\", area)\n",
    "\n",
    "def calcular_area_rectangulo():\n",
    "    largo = float(input(\"Ingrese el largo del rectángulo: \"))\n",
    "    ancho = float(input(\"Ingrese el ancho del rectángulo: \"))\n",
    "    rectangulo = Rectangulo(largo, ancho)\n",
    "    area = rectangulo.calcular_area()\n",
    "    print(\"El área del rectángulo es:\", area)\n",
    "\n",
    "def calcular_area_cuadrado():\n",
    "    lado = float(input(\"Ingrese el lado del cuadrado: \"))\n",
    "    rectangulo = Rectangulo(lado, lado)\n",
    "    area = rectangulo.calcular_area()\n",
    "    print(\"El área del cuadrado es:\", area)\n",
    "\n",
    "def main():\n",
    "    while True:\n",
    "        mostrar_menu()\n",
    "        opcion = input(\"Seleccione una opción: \")\n",
    "        if opcion == '1':\n",
    "            calcular_area_circulo()\n",
    "        elif opcion == '2':\n",
    "            calcular_area_rectangulo()\n",
    "        elif opcion == '3':\n",
    "            calcular_area_cuadrado()\n",
    "        elif opcion == '4':\n",
    "            print(\"¡Hasta luego!\")\n",
    " \n"
   ]
  }
 ],
 "metadata": {
  "language_info": {
   "name": "python"
  }
 },
 "nbformat": 4,
 "nbformat_minor": 2
}
